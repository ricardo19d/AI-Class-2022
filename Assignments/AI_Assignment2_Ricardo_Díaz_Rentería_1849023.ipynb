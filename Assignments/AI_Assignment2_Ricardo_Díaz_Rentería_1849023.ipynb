{
  "nbformat": 4,
  "nbformat_minor": 0,
  "metadata": {
    "colab": {
      "provenance": [],
      "collapsed_sections": []
    },
    "kernelspec": {
      "name": "python3",
      "display_name": "Python 3"
    },
    "language_info": {
      "name": "python"
    }
  },
  "cells": [
    {
      "cell_type": "markdown",
      "source": [
        "#**A2: Python Exercises**\n",
        "## Ricardo Díaz Rentería 1849023\n",
        "### Artificial intelligence N4 - N6 (Thursday)\n"
      ],
      "metadata": {
        "id": "oqDtAkb4YLVB"
      }
    },
    {
      "cell_type": "markdown",
      "source": [
        "**Exercise 1:** Python script which asks for a name and greets the user unless the user is named: \"Ana\", \"John\" or \"Peter\""
      ],
      "metadata": {
        "id": "Sdo3j2rvY3Hg"
      }
    },
    {
      "cell_type": "code",
      "execution_count": 13,
      "metadata": {
        "colab": {
          "base_uri": "https://localhost:8080/"
        },
        "id": "aFS1uFa7YJLX",
        "outputId": "e46c3ddb-2719-4abf-95b4-5a448ad9aa34"
      },
      "outputs": [
        {
          "output_type": "stream",
          "name": "stdout",
          "text": [
            "Welcome! Please enter your name: peter\n",
            "Im sorry, you're not welcome\n"
          ]
        }
      ],
      "source": [
        "blacklist = [\"Ana\", \"ana\", \"John\", \"john\", \"Peter\", \"peter\"]\n",
        "username = input(\"Welcome! Please enter your name: \")\n",
        "if (username in blacklist): \n",
        "  print(\"Im sorry, you're not welcome\")\n",
        "else:\n",
        "   print(\"Greetings \" + username)   "
      ]
    },
    {
      "cell_type": "markdown",
      "source": [
        "**Exercise 2**: Function that returns last element of a list, reverts the order of the list and then returns the reverted list."
      ],
      "metadata": {
        "id": "SdItY0ANeZDz"
      }
    },
    {
      "cell_type": "code",
      "source": [
        "colorlist = [\"Red\", \"Green\", \"Blue\", \"Purple\", \"Yellow\"]\n",
        "numberlist = [\"1\",\"2\",\"3\",\"4\"]\n",
        "\n",
        "def flip_print(list):\n",
        "  print(\"last item on list is: \" + list[-1])\n",
        "  list.reverse()\n",
        "  print(\"Reversed list: \")\n",
        "  print(list)\n",
        "\n",
        "flip_print(colorlist)\n",
        "flip_print(numberlist)\n"
      ],
      "metadata": {
        "colab": {
          "base_uri": "https://localhost:8080/"
        },
        "id": "xqayCSAneqY4",
        "outputId": "3da6ccb6-a170-47f1-f727-52c45cf35207"
      },
      "execution_count": 22,
      "outputs": [
        {
          "output_type": "stream",
          "name": "stdout",
          "text": [
            "last item on list is: Yellow\n",
            "Reversed list: \n",
            "['Yellow', 'Purple', 'Blue', 'Green', 'Red']\n",
            "last item on list is: 4\n",
            "Reversed list: \n",
            "['4', '3', '2', '1']\n"
          ]
        }
      ]
    },
    {
      "cell_type": "markdown",
      "source": [
        "**Exercise 3** Function that returns strings on list ordered in a rectangular shape."
      ],
      "metadata": {
        "id": "Jg8SH-OKifh4"
      }
    },
    {
      "cell_type": "code",
      "source": [
        "Stringlist = [\"Hello\",\"my\",\"name\",\"is\",\"Ricardo\"]\n",
        "\n",
        "def rectprintlist(list):\n",
        "  print(\"************\")\n",
        "  for x in list:\n",
        "    print(\"*  \" + x + \" *\")\n",
        "  print(\"************\")\n",
        "rectprintlist(Stringlist)"
      ],
      "metadata": {
        "colab": {
          "base_uri": "https://localhost:8080/"
        },
        "id": "qGrFvCIni2vN",
        "outputId": "0e561245-083b-4a93-f772-65cde5c6bd59"
      },
      "execution_count": 28,
      "outputs": [
        {
          "output_type": "stream",
          "name": "stdout",
          "text": [
            "************\n",
            "*  Hello *\n",
            "*  my *\n",
            "*  name *\n",
            "*  is *\n",
            "*  Ricardo *\n",
            "************\n"
          ]
        }
      ]
    }
  ]
}